{
    "metadata": {
        "kernelspec": {
            "name": "SQL",
            "display_name": "SQL",
            "language": "sql"
        },
        "language_info": {
            "name": "sql",
            "version": ""
        }
    },
    "nbformat_minor": 2,
    "nbformat": 4,
    "cells": [
        {
            "cell_type": "markdown",
            "source": [
                "# **Identificar Linhas duplicadas**"
            ],
            "metadata": {
                "azdata_cell_guid": "9681e645-ab40-475e-9560-43cd8387b305"
            },
            "attachments": {}
        },
        {
            "cell_type": "code",
            "source": [
                ""
            ],
            "metadata": {
                "azdata_cell_guid": "44a67358-0490-4518-b1e7-8ed6e748d0cf"
            },
            "outputs": [],
            "execution_count": null
        },
        {
            "cell_type": "code",
            "source": [
                ""
            ],
            "metadata": {
                "azdata_cell_guid": "ea518121-93e7-4fef-9d3b-054d08794a33"
            },
            "outputs": [],
            "execution_count": null
        },
        {
            "cell_type": "markdown",
            "source": [
                "# **Remover Linhas Duplicadas**"
            ],
            "metadata": {
                "azdata_cell_guid": "eaff31ab-9173-4f28-9b44-65bb7924d09e"
            },
            "attachments": {}
        },
        {
            "cell_type": "code",
            "source": [
                ""
            ],
            "metadata": {
                "azdata_cell_guid": "83a118ba-4ed5-47ba-bb02-2505ea90eae6"
            },
            "outputs": [],
            "execution_count": null
        },
        {
            "cell_type": "code",
            "source": [
                ""
            ],
            "metadata": {
                "azdata_cell_guid": "bb3f756c-0b08-4a68-b134-4b2cd1a48e6b"
            },
            "outputs": [],
            "execution_count": null
        }
    ]
}